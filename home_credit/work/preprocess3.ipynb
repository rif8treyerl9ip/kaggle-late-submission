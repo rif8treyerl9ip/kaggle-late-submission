{
 "cells": [
  {
   "cell_type": "markdown",
   "metadata": {},
   "source": [
    "##  1"
   ]
  },
  {
   "cell_type": "markdown",
   "metadata": {},
   "source": [
    "方針\n",
    "\n",
    "trainとtestをconcatして同一の前処理を適用していく。\n",
    "処理\n",
    "欠損値は中央値で補完\n",
    "？列ごとに違う値で補完する方法\n",
    "\n",
    "学習・予測\n",
    "ロジスティック回帰で学習・予測\n",
    "\n",
    "\n",
    "最後にSK_ID_CURRをくっつけて提出\n",
    "\n",
    "結果:\n",
    "クラスラベルの比率に偏りがあり、すべてのラベルを0と予測するように学習していた。\n",
    "SK_ID_CURRを削除したら55程1と予測してaucも0.74まで向上"
   ]
  },
  {
   "cell_type": "code",
   "execution_count": 118,
   "metadata": {},
   "outputs": [],
   "source": [
    "import pandas as pd\n",
    "import numpy as np\n",
    "import matplotlib.pyplot as plt\n",
    "from sklearn.preprocessing import StandardScaler"
   ]
  },
  {
   "cell_type": "code",
   "execution_count": 119,
   "metadata": {},
   "outputs": [
    {
     "data": {
      "text/plain": [
       "'/home/ubuntu/kaggle/home_credit/work'"
      ]
     },
     "execution_count": 119,
     "metadata": {},
     "output_type": "execute_result"
    }
   ],
   "source": [
    "%pwd"
   ]
  },
  {
   "cell_type": "code",
   "execution_count": 136,
   "metadata": {},
   "outputs": [],
   "source": [
    "# application_train = pd.read_csv('../Input/application_train.csv')\n",
    "# application_test = pd.read_csv('../Input/application_test.csv')\n",
    "# application_train.to_pickle('../Pickle/application_train.pkl')\n",
    "# application_test.to_pickle('../Pickle/application_test.pkl')"
   ]
  },
  {
   "cell_type": "code",
   "execution_count": 137,
   "metadata": {},
   "outputs": [
    {
     "data": {
      "text/plain": [
       "(307511, 104)"
      ]
     },
     "execution_count": 137,
     "metadata": {},
     "output_type": "execute_result"
    }
   ],
   "source": [
    "df_train.shape\n",
    "# display(df_test)"
   ]
  },
  {
   "cell_type": "code",
   "execution_count": 138,
   "metadata": {
    "scrolled": true
   },
   "outputs": [
    {
     "data": {
      "text/plain": [
       "array([[-0.57513695,  0.14489037, -0.45448921, ..., -0.25074859,\n",
       "        -0.35653219, -0.44780914],\n",
       "       [-0.57513695,  0.446895  ,  1.77043183, ..., -0.25074859,\n",
       "        -0.35653219, -1.01476383],\n",
       "       [-0.57513695, -0.4591189 , -1.13582824, ..., -0.25074859,\n",
       "        -0.35653219, -1.01476383],\n",
       "       ...,\n",
       "       [ 0.81302455,  0.14489037, -0.68427392, ..., -0.25074859,\n",
       "         3.69873501, -0.44780914],\n",
       "       [-0.57513695,  0.24555858, -0.34560817, ..., -0.25074859,\n",
       "        -0.35653219,  0.11914555],\n",
       "       [-0.57513695, -0.15711426, -0.68987319, ..., -0.25074859,\n",
       "         0.99522354,  1.25305492]])"
      ]
     },
     "execution_count": 138,
     "metadata": {},
     "output_type": "execute_result"
    }
   ],
   "source": [
    "df"
   ]
  },
  {
   "cell_type": "code",
   "execution_count": 139,
   "metadata": {
    "scrolled": true
   },
   "outputs": [],
   "source": [
    "df_train = pd.read_pickle('../Pickle/application_train.pkl')\n",
    "df_test = pd.read_pickle('../Pickle/application_test.pkl')\n",
    "\n",
    "y = df_train['TARGET'] # 先に目的変数だけ取っておく\n",
    "df_train = df_train[[col for col in df_train.columns if col != 'TARGET']]\n",
    "\n",
    "df = pd.concat([df_train,df_test])\n",
    "df = df.drop('SK_ID_CURR',axis=1)"
   ]
  },
  {
   "cell_type": "code",
   "execution_count": 140,
   "metadata": {
    "scrolled": false
   },
   "outputs": [
    {
     "ename": "SyntaxError",
     "evalue": "invalid character in identifier (<ipython-input-140-1c5c72908de8>, line 6)",
     "output_type": "error",
     "traceback": [
      "\u001b[0;36m  File \u001b[0;32m\"<ipython-input-140-1c5c72908de8>\"\u001b[0;36m, line \u001b[0;32m6\u001b[0m\n\u001b[0;31m    1が支払期日から遅れてしまった人なのでほとんどの人は期日までに完済している。\u001b[0m\n\u001b[0m                                         ^\u001b[0m\n\u001b[0;31mSyntaxError\u001b[0m\u001b[0;31m:\u001b[0m invalid character in identifier\n"
     ]
    }
   ],
   "source": [
    "# df_train.TARGET\n",
    "# 0    282686\n",
    "# 1     24825\n",
    "282686/(282686+24825)\n",
    "91%が0になっている\n",
    "1が支払期日から遅れてしまった人なのでほとんどの人は期日までに完済している。"
   ]
  },
  {
   "cell_type": "code",
   "execution_count": 141,
   "metadata": {},
   "outputs": [
    {
     "name": "stdout",
     "output_type": "stream",
     "text": [
      "Index(['CNT_CHILDREN', 'AMT_INCOME_TOTAL', 'AMT_CREDIT', 'AMT_ANNUITY',\n",
      "       'AMT_GOODS_PRICE', 'REGION_POPULATION_RELATIVE', 'DAYS_BIRTH',\n",
      "       'DAYS_EMPLOYED', 'DAYS_REGISTRATION', 'DAYS_ID_PUBLISH',\n",
      "       ...\n",
      "       'FLAG_DOCUMENT_18', 'FLAG_DOCUMENT_19', 'FLAG_DOCUMENT_20',\n",
      "       'FLAG_DOCUMENT_21', 'AMT_REQ_CREDIT_BUREAU_HOUR',\n",
      "       'AMT_REQ_CREDIT_BUREAU_DAY', 'AMT_REQ_CREDIT_BUREAU_WEEK',\n",
      "       'AMT_REQ_CREDIT_BUREAU_MON', 'AMT_REQ_CREDIT_BUREAU_QRT',\n",
      "       'AMT_REQ_CREDIT_BUREAU_YEAR'],\n",
      "      dtype='object', length=104)\n"
     ]
    },
    {
     "name": "stderr",
     "output_type": "stream",
     "text": [
      "/home/ubuntu/.pyenv/versions/anaconda3-2019.03/lib/python3.7/site-packages/sklearn/preprocessing/data.py:645: DataConversionWarning: Data with input dtype int64, float64 were all converted to float64 by StandardScaler.\n",
      "  return self.partial_fit(X, y)\n"
     ]
    },
    {
     "name": "stdout",
     "output_type": "stream",
     "text": [
      "(307511, 104)\n",
      "(48744, 104)\n"
     ]
    },
    {
     "name": "stderr",
     "output_type": "stream",
     "text": [
      "/home/ubuntu/.pyenv/versions/anaconda3-2019.03/lib/python3.7/site-packages/sklearn/base.py:464: DataConversionWarning: Data with input dtype int64, float64 were all converted to float64 by StandardScaler.\n",
      "  return self.fit(X, **fit_params).transform(X)\n"
     ]
    }
   ],
   "source": [
    "# object型をすべて除外\n",
    "df = df.select_dtypes(exclude=['object'])\n",
    "# print(df.info(max_cols=1000))\n",
    "# 中央値補完\n",
    "# print('------------------',df.isnull().sum())\n",
    "df = df.fillna(df.median())\n",
    "# print('------------------',df.isnull().sum())\n",
    "\n",
    "columns = df.columns\n",
    "print(columns)\n",
    "df = StandardScaler().fit_transform(df)\n",
    "#fit transformの返り血がndarrayなのでisnull().sum()などが機能しなくなる可能性あり\n",
    "\n",
    "# trainとtestデータに戻す\n",
    "df_train = df[:307511]\n",
    "\n",
    "X = df_train\n",
    "\n",
    "df_test = df[307511:]\n",
    "\n",
    "print(df_train.shape)\n",
    "print(df_test.shape)\n",
    "\n",
    "# display(X)\n",
    "# display(y)"
   ]
  },
  {
   "cell_type": "code",
   "execution_count": null,
   "metadata": {
    "scrolled": true
   },
   "outputs": [],
   "source": [
    "X.isnull().sum()"
   ]
  },
  {
   "cell_type": "code",
   "execution_count": null,
   "metadata": {
    "scrolled": false
   },
   "outputs": [],
   "source": [
    "df_train.describe()"
   ]
  },
  {
   "cell_type": "code",
   "execution_count": null,
   "metadata": {},
   "outputs": [],
   "source": [
    "X.info(max_cols=1000)"
   ]
  },
  {
   "cell_type": "code",
   "execution_count": 142,
   "metadata": {},
   "outputs": [
    {
     "name": "stdout",
     "output_type": "stream",
     "text": [
      "(246008, 104)\n"
     ]
    },
    {
     "name": "stderr",
     "output_type": "stream",
     "text": [
      "/home/ubuntu/.pyenv/versions/anaconda3-2019.03/lib/python3.7/site-packages/sklearn/linear_model/logistic.py:433: FutureWarning: Default solver will be changed to 'lbfgs' in 0.22. Specify a solver to silence this warning.\n",
      "  FutureWarning)\n"
     ]
    },
    {
     "data": {
      "text/plain": [
       "LogisticRegression(C=1.0, class_weight=None, dual=False, fit_intercept=True,\n",
       "          intercept_scaling=1, max_iter=100, multi_class='warn',\n",
       "          n_jobs=None, penalty='l2', random_state=None, solver='warn',\n",
       "          tol=0.0001, verbose=0, warm_start=False)"
      ]
     },
     "execution_count": 142,
     "metadata": {},
     "output_type": "execute_result"
    }
   ],
   "source": [
    "from sklearn.linear_model import LogisticRegression\n",
    "logreg = LogisticRegression()\n",
    "from sklearn.model_selection import train_test_split\n",
    "\n",
    "X_train,X_test,y_train,y_test = train_test_split(X,y,random_state=0,test_size=0.2,stratify=y)\n",
    "print(X_train.shape)\n",
    "\n",
    "# 学習\n",
    "logreg.fit(X_train,y_train)\n"
   ]
  },
  {
   "cell_type": "code",
   "execution_count": 143,
   "metadata": {
    "scrolled": true
   },
   "outputs": [
    {
     "data": {
      "image/png": "[encoded data removed]",
      "text/plain": [
       "<Figure size 432x288 with 1 Axes>"
      ]
     },
     "metadata": {
      "needs_background": "light"
     },
     "output_type": "display_data"
    }
   ],
   "source": [
    "pred = logreg.predict_proba(X_test)[: , 1]\n",
    "pred\n",
    "#評価用モジュール\n",
    "from sklearn.metrics import accuracy_score, confusion_matrix, roc_curve, roc_auc_score, classification_report\n",
    "#ROC曲線プロット\n",
    "fpr, tpr, thresholds = roc_curve(y_test, pred)\n",
    "auc_score = roc_auc_score(y_test, pred)\n",
    "plt.plot(fpr, tpr, label='AUC = %.3f' % (auc_score))\n",
    "plt.legend()\n",
    "plt.title('ROC curve')\n",
    "plt.xlabel('False Positive Rate')\n",
    "plt.ylabel('True Positive Rate')\n",
    "plt.grid(True)"
   ]
  },
  {
   "cell_type": "markdown",
   "metadata": {},
   "source": [
    "## 2"
   ]
  },
  {
   "cell_type": "code",
   "execution_count": 146,
   "metadata": {},
   "outputs": [
    {
     "data": {
      "text/plain": [
       "(48744, 104)"
      ]
     },
     "execution_count": 146,
     "metadata": {},
     "output_type": "execute_result"
    }
   ],
   "source": [
    "df_test.shape"
   ]
  },
  {
   "cell_type": "code",
   "execution_count": 147,
   "metadata": {},
   "outputs": [
    {
     "data": {
      "text/plain": [
       "0    48688\n",
       "1       56\n",
       "dtype: int64"
      ]
     },
     "execution_count": 147,
     "metadata": {},
     "output_type": "execute_result"
    }
   ],
   "source": [
    "predict_y = logreg.predict(df_test)\n",
    "predict_y\n",
    "pd.value_counts(predict_y)"
   ]
  },
  {
   "cell_type": "code",
   "execution_count": 148,
   "metadata": {
    "scrolled": true
   },
   "outputs": [
    {
     "data": {
      "text/html": [
       "<div>\n",
       "<style scoped>\n",
       "    .dataframe tbody tr th:only-of-type {\n",
       "        vertical-align: middle;\n",
       "    }\n",
       "\n",
       "    .dataframe tbody tr th {\n",
       "        vertical-align: top;\n",
       "    }\n",
       "\n",
       "    .dataframe thead th {\n",
       "        text-align: right;\n",
       "    }\n",
       "</style>\n",
       "<table border=\"1\" class=\"dataframe\">\n",
       "  <thead>\n",
       "    <tr style=\"text-align: right;\">\n",
       "      <th></th>\n",
       "      <th>SK_ID_CURR</th>\n",
       "      <th>TARGET</th>\n",
       "    </tr>\n",
       "  </thead>\n",
       "  <tbody>\n",
       "    <tr>\n",
       "      <th>0</th>\n",
       "      <td>100001</td>\n",
       "      <td>0</td>\n",
       "    </tr>\n",
       "    <tr>\n",
       "      <th>1</th>\n",
       "      <td>100005</td>\n",
       "      <td>0</td>\n",
       "    </tr>\n",
       "    <tr>\n",
       "      <th>2</th>\n",
       "      <td>100013</td>\n",
       "      <td>0</td>\n",
       "    </tr>\n",
       "    <tr>\n",
       "      <th>3</th>\n",
       "      <td>100028</td>\n",
       "      <td>0</td>\n",
       "    </tr>\n",
       "    <tr>\n",
       "      <th>4</th>\n",
       "      <td>100038</td>\n",
       "      <td>0</td>\n",
       "    </tr>\n",
       "    <tr>\n",
       "      <th>5</th>\n",
       "      <td>100042</td>\n",
       "      <td>0</td>\n",
       "    </tr>\n",
       "    <tr>\n",
       "      <th>6</th>\n",
       "      <td>100057</td>\n",
       "      <td>0</td>\n",
       "    </tr>\n",
       "    <tr>\n",
       "      <th>7</th>\n",
       "      <td>100065</td>\n",
       "      <td>0</td>\n",
       "    </tr>\n",
       "    <tr>\n",
       "      <th>8</th>\n",
       "      <td>100066</td>\n",
       "      <td>0</td>\n",
       "    </tr>\n",
       "    <tr>\n",
       "      <th>9</th>\n",
       "      <td>100067</td>\n",
       "      <td>0</td>\n",
       "    </tr>\n",
       "    <tr>\n",
       "      <th>10</th>\n",
       "      <td>100074</td>\n",
       "      <td>0</td>\n",
       "    </tr>\n",
       "    <tr>\n",
       "      <th>11</th>\n",
       "      <td>100090</td>\n",
       "      <td>0</td>\n",
       "    </tr>\n",
       "    <tr>\n",
       "      <th>12</th>\n",
       "      <td>100091</td>\n",
       "      <td>0</td>\n",
       "    </tr>\n",
       "    <tr>\n",
       "      <th>13</th>\n",
       "      <td>100092</td>\n",
       "      <td>0</td>\n",
       "    </tr>\n",
       "    <tr>\n",
       "      <th>14</th>\n",
       "      <td>100106</td>\n",
       "      <td>0</td>\n",
       "    </tr>\n",
       "    <tr>\n",
       "      <th>15</th>\n",
       "      <td>100107</td>\n",
       "      <td>0</td>\n",
       "    </tr>\n",
       "    <tr>\n",
       "      <th>16</th>\n",
       "      <td>100109</td>\n",
       "      <td>0</td>\n",
       "    </tr>\n",
       "    <tr>\n",
       "      <th>17</th>\n",
       "      <td>100117</td>\n",
       "      <td>0</td>\n",
       "    </tr>\n",
       "    <tr>\n",
       "      <th>18</th>\n",
       "      <td>100128</td>\n",
       "      <td>0</td>\n",
       "    </tr>\n",
       "    <tr>\n",
       "      <th>19</th>\n",
       "      <td>100141</td>\n",
       "      <td>0</td>\n",
       "    </tr>\n",
       "    <tr>\n",
       "      <th>20</th>\n",
       "      <td>100150</td>\n",
       "      <td>0</td>\n",
       "    </tr>\n",
       "    <tr>\n",
       "      <th>21</th>\n",
       "      <td>100168</td>\n",
       "      <td>0</td>\n",
       "    </tr>\n",
       "    <tr>\n",
       "      <th>22</th>\n",
       "      <td>100169</td>\n",
       "      <td>0</td>\n",
       "    </tr>\n",
       "    <tr>\n",
       "      <th>23</th>\n",
       "      <td>100170</td>\n",
       "      <td>0</td>\n",
       "    </tr>\n",
       "    <tr>\n",
       "      <th>24</th>\n",
       "      <td>100171</td>\n",
       "      <td>0</td>\n",
       "    </tr>\n",
       "    <tr>\n",
       "      <th>25</th>\n",
       "      <td>100172</td>\n",
       "      <td>0</td>\n",
       "    </tr>\n",
       "    <tr>\n",
       "      <th>26</th>\n",
       "      <td>100184</td>\n",
       "      <td>0</td>\n",
       "    </tr>\n",
       "    <tr>\n",
       "      <th>27</th>\n",
       "      <td>100187</td>\n",
       "      <td>0</td>\n",
       "    </tr>\n",
       "    <tr>\n",
       "      <th>28</th>\n",
       "      <td>100212</td>\n",
       "      <td>0</td>\n",
       "    </tr>\n",
       "    <tr>\n",
       "      <th>29</th>\n",
       "      <td>100222</td>\n",
       "      <td>0</td>\n",
       "    </tr>\n",
       "    <tr>\n",
       "      <th>...</th>\n",
       "      <td>...</td>\n",
       "      <td>...</td>\n",
       "    </tr>\n",
       "    <tr>\n",
       "      <th>48714</th>\n",
       "      <td>455963</td>\n",
       "      <td>0</td>\n",
       "    </tr>\n",
       "    <tr>\n",
       "      <th>48715</th>\n",
       "      <td>455965</td>\n",
       "      <td>0</td>\n",
       "    </tr>\n",
       "    <tr>\n",
       "      <th>48716</th>\n",
       "      <td>456007</td>\n",
       "      <td>0</td>\n",
       "    </tr>\n",
       "    <tr>\n",
       "      <th>48717</th>\n",
       "      <td>456008</td>\n",
       "      <td>0</td>\n",
       "    </tr>\n",
       "    <tr>\n",
       "      <th>48718</th>\n",
       "      <td>456009</td>\n",
       "      <td>0</td>\n",
       "    </tr>\n",
       "    <tr>\n",
       "      <th>48719</th>\n",
       "      <td>456010</td>\n",
       "      <td>0</td>\n",
       "    </tr>\n",
       "    <tr>\n",
       "      <th>48720</th>\n",
       "      <td>456011</td>\n",
       "      <td>0</td>\n",
       "    </tr>\n",
       "    <tr>\n",
       "      <th>48721</th>\n",
       "      <td>456013</td>\n",
       "      <td>0</td>\n",
       "    </tr>\n",
       "    <tr>\n",
       "      <th>48722</th>\n",
       "      <td>456028</td>\n",
       "      <td>0</td>\n",
       "    </tr>\n",
       "    <tr>\n",
       "      <th>48723</th>\n",
       "      <td>456058</td>\n",
       "      <td>0</td>\n",
       "    </tr>\n",
       "    <tr>\n",
       "      <th>48724</th>\n",
       "      <td>456111</td>\n",
       "      <td>0</td>\n",
       "    </tr>\n",
       "    <tr>\n",
       "      <th>48725</th>\n",
       "      <td>456114</td>\n",
       "      <td>0</td>\n",
       "    </tr>\n",
       "    <tr>\n",
       "      <th>48726</th>\n",
       "      <td>456115</td>\n",
       "      <td>0</td>\n",
       "    </tr>\n",
       "    <tr>\n",
       "      <th>48727</th>\n",
       "      <td>456116</td>\n",
       "      <td>0</td>\n",
       "    </tr>\n",
       "    <tr>\n",
       "      <th>48728</th>\n",
       "      <td>456119</td>\n",
       "      <td>0</td>\n",
       "    </tr>\n",
       "    <tr>\n",
       "      <th>48729</th>\n",
       "      <td>456120</td>\n",
       "      <td>0</td>\n",
       "    </tr>\n",
       "    <tr>\n",
       "      <th>48730</th>\n",
       "      <td>456122</td>\n",
       "      <td>0</td>\n",
       "    </tr>\n",
       "    <tr>\n",
       "      <th>48731</th>\n",
       "      <td>456123</td>\n",
       "      <td>0</td>\n",
       "    </tr>\n",
       "    <tr>\n",
       "      <th>48732</th>\n",
       "      <td>456166</td>\n",
       "      <td>0</td>\n",
       "    </tr>\n",
       "    <tr>\n",
       "      <th>48733</th>\n",
       "      <td>456167</td>\n",
       "      <td>0</td>\n",
       "    </tr>\n",
       "    <tr>\n",
       "      <th>48734</th>\n",
       "      <td>456168</td>\n",
       "      <td>0</td>\n",
       "    </tr>\n",
       "    <tr>\n",
       "      <th>48735</th>\n",
       "      <td>456169</td>\n",
       "      <td>0</td>\n",
       "    </tr>\n",
       "    <tr>\n",
       "      <th>48736</th>\n",
       "      <td>456170</td>\n",
       "      <td>0</td>\n",
       "    </tr>\n",
       "    <tr>\n",
       "      <th>48737</th>\n",
       "      <td>456189</td>\n",
       "      <td>0</td>\n",
       "    </tr>\n",
       "    <tr>\n",
       "      <th>48738</th>\n",
       "      <td>456202</td>\n",
       "      <td>0</td>\n",
       "    </tr>\n",
       "    <tr>\n",
       "      <th>48739</th>\n",
       "      <td>456221</td>\n",
       "      <td>0</td>\n",
       "    </tr>\n",
       "    <tr>\n",
       "      <th>48740</th>\n",
       "      <td>456222</td>\n",
       "      <td>0</td>\n",
       "    </tr>\n",
       "    <tr>\n",
       "      <th>48741</th>\n",
       "      <td>456223</td>\n",
       "      <td>0</td>\n",
       "    </tr>\n",
       "    <tr>\n",
       "      <th>48742</th>\n",
       "      <td>456224</td>\n",
       "      <td>0</td>\n",
       "    </tr>\n",
       "    <tr>\n",
       "      <th>48743</th>\n",
       "      <td>456250</td>\n",
       "      <td>0</td>\n",
       "    </tr>\n",
       "  </tbody>\n",
       "</table>\n",
       "<p>48744 rows × 2 columns</p>\n",
       "</div>"
      ],
      "text/plain": [
       "       SK_ID_CURR  TARGET\n",
       "0          100001       0\n",
       "1          100005       0\n",
       "2          100013       0\n",
       "3          100028       0\n",
       "4          100038       0\n",
       "5          100042       0\n",
       "6          100057       0\n",
       "7          100065       0\n",
       "8          100066       0\n",
       "9          100067       0\n",
       "10         100074       0\n",
       "11         100090       0\n",
       "12         100091       0\n",
       "13         100092       0\n",
       "14         100106       0\n",
       "15         100107       0\n",
       "16         100109       0\n",
       "17         100117       0\n",
       "18         100128       0\n",
       "19         100141       0\n",
       "20         100150       0\n",
       "21         100168       0\n",
       "22         100169       0\n",
       "23         100170       0\n",
       "24         100171       0\n",
       "25         100172       0\n",
       "26         100184       0\n",
       "27         100187       0\n",
       "28         100212       0\n",
       "29         100222       0\n",
       "...           ...     ...\n",
       "48714      455963       0\n",
       "48715      455965       0\n",
       "48716      456007       0\n",
       "48717      456008       0\n",
       "48718      456009       0\n",
       "48719      456010       0\n",
       "48720      456011       0\n",
       "48721      456013       0\n",
       "48722      456028       0\n",
       "48723      456058       0\n",
       "48724      456111       0\n",
       "48725      456114       0\n",
       "48726      456115       0\n",
       "48727      456116       0\n",
       "48728      456119       0\n",
       "48729      456120       0\n",
       "48730      456122       0\n",
       "48731      456123       0\n",
       "48732      456166       0\n",
       "48733      456167       0\n",
       "48734      456168       0\n",
       "48735      456169       0\n",
       "48736      456170       0\n",
       "48737      456189       0\n",
       "48738      456202       0\n",
       "48739      456221       0\n",
       "48740      456222       0\n",
       "48741      456223       0\n",
       "48742      456224       0\n",
       "48743      456250       0\n",
       "\n",
       "[48744 rows x 2 columns]"
      ]
     },
     "metadata": {},
     "output_type": "display_data"
    }
   ],
   "source": [
    "df_test2 = pd.read_pickle('../Pickle/application_test.pkl') # SK_ID_CURRを結合するためだけにdf_test2を使う\n",
    "df_test2['SK_ID_CURR']\n",
    "predict_y = pd.Series(predict_y)\n",
    "predict_y = pd.concat([df_test2['SK_ID_CURR'],predict_y],axis=1)\n",
    "predict_y = pd.DataFrame(predict_y)\n",
    "predict_y.columns = ['SK_ID_CURR','TARGET']\n",
    "display(predict_y)"
   ]
  },
  {
   "cell_type": "code",
   "execution_count": 149,
   "metadata": {},
   "outputs": [],
   "source": [
    "type(predict_y)\n",
    "predict_y.to_csv('../Output/submit.csv',index=None)"
   ]
  },
  {
   "cell_type": "code",
   "execution_count": 150,
   "metadata": {},
   "outputs": [
    {
     "data": {
      "text/plain": [
       "0    48688\n",
       "1       56\n",
       "Name: TARGET, dtype: int64"
      ]
     },
     "execution_count": 150,
     "metadata": {},
     "output_type": "execute_result"
    }
   ],
   "source": [
    "a = pd.read_csv('../Output/submit.csv') # 変えないと上書きされるので注意\n",
    "pd.value_counts(a['TARGET'])"
   ]
  },
  {
   "cell_type": "markdown",
   "metadata": {},
   "source": [
    "## 3"
   ]
  },
  {
   "cell_type": "markdown",
   "metadata": {},
   "source": [
    "過程  \n",
    "・RFEが一生終わらない(15分以上かかっていた気がする。今度プログレスバー導入しよう)  \n",
    "・とりあえずランダムフォレスト分類で様子をみよう→AUC0.672  \n",
    "・SK_ID_CURRがint型なので削除できてなかった→削除→数値データのみの粗処理のロジステック回帰でもAUC→0.744  \n",
    "・SK_ID_CURR削除後のランダムフォレストの変数重要度を見たい→最高の変数重要度が0.06で話にならない →とりあえず真面目にデータを見よう  \n",
    "・bureau.csvの以前のクレジットのデータみよう  \n",
    "・ついてにほかのデータも全部pickle化しておこう"
   ]
  },
  {
   "cell_type": "code",
   "execution_count": 151,
   "metadata": {
    "scrolled": true
   },
   "outputs": [
    {
     "data": {
      "text/plain": [
       "RandomForestClassifier(bootstrap=True, class_weight=None, criterion='gini',\n",
       "            max_depth=None, max_features='auto', max_leaf_nodes=None,\n",
       "            min_impurity_decrease=0.0, min_impurity_split=None,\n",
       "            min_samples_leaf=1, min_samples_split=2,\n",
       "            min_weight_fraction_leaf=0.0, n_estimators=25, n_jobs=-1,\n",
       "            oob_score=False, random_state=0, verbose=0, warm_start=False)"
      ]
     },
     "execution_count": 151,
     "metadata": {},
     "output_type": "execute_result"
    }
   ],
   "source": [
    "from sklearn.ensemble import RandomForestClassifier\n",
    "fore = RandomForestClassifier(criterion='gini',n_estimators=25, random_state=0,n_jobs=-1)\n",
    "\n",
    "fore.fit(X_train, y_train)\n"
   ]
  },
  {
   "cell_type": "code",
   "execution_count": 154,
   "metadata": {},
   "outputs": [
    {
     "data": {
      "image/png": "[encoded data removed]",
      "text/plain": [
       "<Figure size 432x288 with 1 Axes>"
      ]
     },
     "metadata": {
      "needs_background": "light"
     },
     "output_type": "display_data"
    }
   ],
   "source": [
    "pred = fore.predict_proba(X_test)[: , 1]\n",
    "pred\n",
    "#評価用モジュール\n",
    "from sklearn.metrics import accuracy_score, confusion_matrix, roc_curve, roc_auc_score, classification_report\n",
    "#ROC曲線プロット\n",
    "fpr, tpr, thresholds = roc_curve(y_test, pred)\n",
    "auc_score = roc_auc_score(y_test, pred)\n",
    "plt.plot(fpr, tpr, label='AUC = %.3f' % (auc_score))\n",
    "plt.legend()\n",
    "plt.title('ROC curve')\n",
    "plt.xlabel('False Positive Rate')\n",
    "plt.ylabel('True Positive Rate')\n",
    "plt.grid(True)"
   ]
  },
  {
   "cell_type": "code",
   "execution_count": 230,
   "metadata": {},
   "outputs": [
    {
     "data": {
      "text/plain": [
       "Index(['feature', 'fti'], dtype='object')"
      ]
     },
     "execution_count": 230,
     "metadata": {},
     "output_type": "execute_result"
    }
   ],
   "source": [
    "fti=fore.feature_importances_\n",
    "fti = np.array(fti).reshape(104,1)\n",
    "columns = np.array(list(columns)).reshape(104,1)\n",
    "# print(columns)\n",
    "a = pd.DataFrame(np.hstack((columns,fti)))\n",
    "a.columns  = ['feature','fti']\n",
    "a.columns\n",
    "# a = np.array([])\n",
    "# for i, feat in enumerate(columns):\n",
    "#     print('\\t{0:20s} : {1:>.6f}'.format(feat, fti[i]))\n",
    "#     a.insert(feat, fti[i])\n",
    "# # plt.plot(np.linspace(1,105,105),np.sort(fore.feature_importances_)[::-1])"
   ]
  },
  {
   "cell_type": "code",
   "execution_count": 231,
   "metadata": {},
   "outputs": [
    {
     "name": "stdout",
     "output_type": "stream",
     "text": [
      "                          feature                     fti\n",
      "86               FLAG_DOCUMENT_10                     0.0\n",
      "80                FLAG_DOCUMENT_4                     0.0\n",
      "88               FLAG_DOCUMENT_12                     0.0\n",
      "11                     FLAG_MOBIL                     0.0\n",
      "96               FLAG_DOCUMENT_20   0.0001065969741803538\n",
      "97               FLAG_DOCUMENT_21   0.0001195478059174863\n",
      "78                FLAG_DOCUMENT_2  0.00012012518653057741\n",
      "95               FLAG_DOCUMENT_19  0.00012073714830741173\n",
      "90               FLAG_DOCUMENT_14  0.00013988958081671778\n",
      "89               FLAG_DOCUMENT_13  0.00014323600238836884\n",
      "87               FLAG_DOCUMENT_11   0.0002827345882604584\n",
      "14               FLAG_CONT_MOBILE  0.00030680461593723604\n",
      "85                FLAG_DOCUMENT_9   0.0004685446618363578\n",
      "92               FLAG_DOCUMENT_16   0.0006209427413993668\n",
      "94               FLAG_DOCUMENT_18   0.0006518509097623715\n",
      "98     AMT_REQ_CREDIT_BUREAU_HOUR   0.0007236124473646845\n",
      "99      AMT_REQ_CREDIT_BUREAU_DAY   0.0010110876181933348\n",
      "21     REG_REGION_NOT_LIVE_REGION   0.0011544181835715678\n",
      "81                FLAG_DOCUMENT_5   0.0013316325597084427\n",
      "49                 ELEVATORS_MODE   0.0016601469666161393\n",
      "82                FLAG_DOCUMENT_6    0.001814509679738095\n",
      "63                 ELEVATORS_MEDI   0.0019743227020838387\n",
      "100    AMT_REQ_CREDIT_BUREAU_WEEK   0.0021514921604883375\n",
      "23    LIVE_REGION_NOT_WORK_REGION   0.0021951822515015457\n",
      "35                  ELEVATORS_AVG    0.002215076338781256\n",
      "12                 FLAG_EMP_PHONE    0.002220489934755689\n",
      "56       NONLIVINGAPARTMENTS_MODE    0.002265186932700276\n",
      "22     REG_REGION_NOT_WORK_REGION   0.0023706293185800044\n",
      "70       NONLIVINGAPARTMENTS_MEDI   0.0024203543242193475\n",
      "84                FLAG_DOCUMENT_8    0.002468474055512651\n",
      "..                            ...                     ...\n",
      "32    YEARS_BEGINEXPLUATATION_AVG      0.0086624928461235\n",
      "0                    CNT_CHILDREN    0.008909917053938631\n",
      "46   YEARS_BEGINEXPLUATATION_MODE    0.009054372191653353\n",
      "60   YEARS_BEGINEXPLUATATION_MEDI     0.00912537012878009\n",
      "41                 LIVINGAREA_AVG    0.009979472877514375\n",
      "69                LIVINGAREA_MEDI     0.01009238020749501\n",
      "55                LIVINGAREA_MODE    0.010174153602141607\n",
      "72                 TOTALAREA_MODE    0.011113453649109104\n",
      "17                CNT_FAM_MEMBERS    0.013440926897802536\n",
      "73       OBS_30_CNT_SOCIAL_CIRCLE     0.01555545708662441\n",
      "75       OBS_60_CNT_SOCIAL_CIRCLE    0.015631438944498973\n",
      "10                    OWN_CAR_AGE     0.01857632970660652\n",
      "103    AMT_REQ_CREDIT_BUREAU_YEAR    0.020040997992924785\n",
      "20        HOUR_APPR_PROCESS_START     0.02858709219932815\n",
      "4                 AMT_GOODS_PRICE    0.030779069558227082\n",
      "5      REGION_POPULATION_RELATIVE    0.031166941237247277\n",
      "27                   EXT_SOURCE_1     0.03197590895774524\n",
      "1                AMT_INCOME_TOTAL     0.03267501920370548\n",
      "2                      AMT_CREDIT     0.03690579321248647\n",
      "7                   DAYS_EMPLOYED     0.03860485464177203\n",
      "77         DAYS_LAST_PHONE_CHANGE     0.03864719642642138\n",
      "3                     AMT_ANNUITY    0.040580531059539314\n",
      "8               DAYS_REGISTRATION     0.04292353959562308\n",
      "9                 DAYS_ID_PUBLISH     0.04386811185506938\n",
      "6                      DAYS_BIRTH     0.04402019087502961\n",
      "29                   EXT_SOURCE_3    0.057755843181055144\n",
      "28                   EXT_SOURCE_2     0.06505254693681577\n",
      "93               FLAG_DOCUMENT_17  2.8619137806136905e-05\n",
      "83                FLAG_DOCUMENT_7   6.101980539786637e-05\n",
      "91               FLAG_DOCUMENT_15   9.078654658922502e-05\n",
      "\n",
      "[104 rows x 2 columns]\n"
     ]
    }
   ],
   "source": [
    "df_s = a.sort_values('fti')\n",
    "print(df_s)\n"
   ]
  },
  {
   "cell_type": "markdown",
   "metadata": {},
   "source": [
    "この感じだと特定の特徴量を使用するのではなく、主成分分析か、もっと特徴量を観察するか"
   ]
  },
  {
   "cell_type": "markdown",
   "metadata": {},
   "source": [
    "## 4"
   ]
  }
 ],
 "metadata": {
  "kernelspec": {
   "display_name": "Python 3",
   "language": "python",
   "name": "python3"
  },
  "language_info": {
   "codemirror_mode": {
    "name": "ipython",
    "version": 3
   },
   "file_extension": ".py",
   "mimetype": "text/x-python",
   "name": "python",
   "nbconvert_exporter": "python",
   "pygments_lexer": "ipython3",
   "version": "3.7.3"
  },
  "toc": {
   "base_numbering": 1,
   "nav_menu": {
    "height": "161px",
    "width": "166px"
   },
   "number_sections": true,
   "sideBar": true,
   "skip_h1_title": false,
   "title_cell": "Table of Contents",
   "title_sidebar": "Contents",
   "toc_cell": false,
   "toc_position": {},
   "toc_section_display": true,
   "toc_window_display": false
  },
  "varInspector": {
   "cols": {
    "lenName": 16,
    "lenType": 16,
    "lenVar": 40
   },
   "kernels_config": {
    "python": {
     "delete_cmd_postfix": "",
     "delete_cmd_prefix": "del ",
     "library": "var_list.py",
     "varRefreshCmd": "print(var_dic_list())"
    },
    "r": {
     "delete_cmd_postfix": ") ",
     "delete_cmd_prefix": "rm(",
     "library": "var_list.r",
     "varRefreshCmd": "cat(var_dic_list()) "
    }
   },
   "position": {
    "height": "370.4px",
    "left": "654px",
    "right": "20px",
    "top": "120px",
    "width": "350px"
   },
   "types_to_exclude": [
    "module",
    "function",
    "builtin_function_or_method",
    "instance",
    "_Feature"
   ],
   "window_display": false
  }
 },
 "nbformat": 4,
 "nbformat_minor": 4
}
